{
 "cells": [
  {
   "cell_type": "code",
   "execution_count": 4,
   "metadata": {},
   "outputs": [
    {
     "data": {
      "text/plain": [
       "['Minced Beef',\n",
       " 'Salmon',\n",
       " 'Chicken Thighs',\n",
       " 'Beef ',\n",
       " 'Steak',\n",
       " 'Shrimp',\n",
       " 'Beef Joint',\n",
       " 'Chicken Breast',\n",
       " 'Kebda',\n",
       " 'Chicken',\n",
       " 'Tuna',\n",
       " 'Hot Dogs',\n",
       " 'Eggs and Salmon',\n",
       " 'Eggs',\n",
       " 'Chicken Wings']"
      ]
     },
     "execution_count": 4,
     "metadata": {},
     "output_type": "execute_result"
    }
   ],
   "source": [
    "import pandas as pd\n",
    "import numpy as np\n",
    "\n",
    "def get_protein():\n",
    "    meals = pd.read_excel('meals.xlsx')\n",
    "    df = meals['Protein'].unique()\n",
    "    listy = df.tolist()\n",
    "    return listy\n",
    "\n",
    "get_protein()"
   ]
  },
  {
   "cell_type": "code",
   "execution_count": 5,
   "metadata": {},
   "outputs": [],
   "source": [
    "import streamlit as st"
   ]
  },
  {
   "cell_type": "code",
   "execution_count": 6,
   "metadata": {},
   "outputs": [
    {
     "name": "stderr",
     "output_type": "stream",
     "text": [
      "2024-07-01 14:56:32.286 \n",
      "  \u001b[33m\u001b[1mWarning:\u001b[0m to view this Streamlit app on a browser, run it with the following\n",
      "  command:\n",
      "\n",
      "    streamlit run /Users/hallabehery/Library/Python/3.12/lib/python/site-packages/ipykernel_launcher.py [ARGUMENTS]\n"
     ]
    }
   ],
   "source": [
    "def create_protein_button():\n",
    "    for i in get_protein():\n",
    "        st.button(i)"
   ]
  },
  {
   "cell_type": "code",
   "execution_count": 7,
   "metadata": {},
   "outputs": [],
   "source": [
    "## Randomiser\n",
    "n= 'Salmon'\n",
    "import random\n",
    "\n",
    "def specific_protein(button):\n",
    "    meals = pd.read_excel('meals.xlsx')\n",
    "    meals_dinner = meals[meals['MealTime'].str.contains('Dinner')]\n",
    "    filtered_meals = meals_dinner[meals_dinner['Protein'].str.contains(button)]\n",
    "    max_index = len(filtered_meals)\n",
    "    random_index = random.randint(0, max_index-1)\n",
    "    random_meal = filtered_meals.iloc[random_index]\n",
    "    return random_meal\n",
    "\n",
    "\n"
   ]
  },
  {
   "cell_type": "code",
   "execution_count": 11,
   "metadata": {},
   "outputs": [],
   "source": [
    "def surprise_me():\n",
    "    meals = pd.read_excel('meals.xlsx')\n",
    "    meals_dinner = meals[meals['MealTime'].str.contains('Dinner')]\n",
    "    max_index = len(meals)\n",
    "    random_index = random.randint(0, max_index-1)\n",
    "    random_meal = meals_dinner.iloc[random_index]\n",
    "    return random_meal"
   ]
  },
  {
   "cell_type": "code",
   "execution_count": 12,
   "metadata": {},
   "outputs": [
    {
     "data": {
      "text/plain": [
       "MealName       Kebda and Red Pasta\n",
       "MealTime                    Dinner\n",
       "Calories                       NaN\n",
       "CookingTime                    1.0\n",
       "Protein                      Kebda\n",
       "Veggie               Green Peppers\n",
       "Carb                         Pasta\n",
       "Dairy                          NaN\n",
       "Sauce                       Tahini\n",
       "Name: 10, dtype: object"
      ]
     },
     "execution_count": 12,
     "metadata": {},
     "output_type": "execute_result"
    }
   ],
   "source": [
    "surprise_me()"
   ]
  },
  {
   "cell_type": "code",
   "execution_count": null,
   "metadata": {},
   "outputs": [],
   "source": []
  }
 ],
 "metadata": {
  "kernelspec": {
   "display_name": "Python 3",
   "language": "python",
   "name": "python3"
  },
  "language_info": {
   "codemirror_mode": {
    "name": "ipython",
    "version": 3
   },
   "file_extension": ".py",
   "mimetype": "text/x-python",
   "name": "python",
   "nbconvert_exporter": "python",
   "pygments_lexer": "ipython3",
   "version": "3.12.3"
  }
 },
 "nbformat": 4,
 "nbformat_minor": 2
}
